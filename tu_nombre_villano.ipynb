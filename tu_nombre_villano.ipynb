{
  "nbformat": 4,
  "nbformat_minor": 0,
  "metadata": {
    "colab": {
      "name": "tu_nombre_villano.ipynb",
      "provenance": [],
      "authorship_tag": "ABX9TyN+4yaJUlBtK4C7+0m4TX96",
      "include_colab_link": true
    },
    "kernelspec": {
      "name": "python3",
      "display_name": "Python 3"
    },
    "language_info": {
      "name": "python"
    }
  },
  "cells": [
    {
      "cell_type": "markdown",
      "metadata": {
        "id": "view-in-github",
        "colab_type": "text"
      },
      "source": [
        "<a href=\"https://colab.research.google.com/github/pablinT/Tu_nombre_villano/blob/main/tu_nombre_villano.ipynb\" target=\"_parent\"><img src=\"https://colab.research.google.com/assets/colab-badge.svg\" alt=\"Open In Colab\"/></a>"
      ]
    },
    {
      "cell_type": "markdown",
      "metadata": {
        "id": "8nVciAksTRec"
      },
      "source": [
        "# Tu nombre villano"
      ]
    },
    {
      "cell_type": "markdown",
      "metadata": {
        "id": "8dZEADVvTQq_"
      },
      "source": [
        ""
      ]
    },
    {
      "cell_type": "markdown",
      "metadata": {
        "id": "pRkDzO0YS4qu"
      },
      "source": [
        "Creá una función que devuelva tu nombre en \"villano\" basada en la fecha de tu cumpleaños (se asume que la fecha recibida es una fecha válida) y tu nombre. Las reglas para la conversión son las siguientes:\n",
        "\n",
        "**Nombre -> Mes de nacimiento**\n",
        "\n",
        "* Enero -> \"The Evil\"\n",
        "* Febrero -> \"The Vile\"\n",
        "* Marzo -> \"The Cruel\"\n",
        "* Abril -> \"The Trashy\"\n",
        "* Mayo -> \"The Despicable\"\n",
        "* Junio -> \"The Embarrassing\"\n",
        "* Julio -> \"The Disreputable\"\n",
        "* Agosto -> \"The Atrocious\"\n",
        "* Septiembre -> \"The Twirling\"\n",
        "* Octubre -> \"The Orange\"\n",
        "* Noviembre -> \"The Terrifying\"\n",
        "* Diciembre -> \"The Awkward\"\n",
        "\n",
        "**Segundo nombre -> Tu nombre de atrás hacia adelante**\n",
        "\n",
        "Ejemplo:\n",
        "* Sofia -> Aifos\n",
        "\n",
        "**Apellido -> Último dígito del día de Nacimiento**\n",
        "\n",
        "* 0 -> \"Mustache\"\n",
        "* 1 -> \"Pickle\"\n",
        "* 2 -> \"Hood Ornament\"\n",
        "* 3 -> \"Raisin\"\n",
        "* 4 -> \"Recycling Bin\"\n",
        "* 5 -> \"Potato\"\n",
        "* 6 -> \"Tomato\"\n",
        "* 7 -> \"House Cat\"\n",
        "* 8 -> \"Teaspoon\"\n",
        "* 9 -> \"Laundry Basket\""
      ]
    },
    {
      "cell_type": "code",
      "metadata": {
        "id": "5tr1_-lBS4Z2"
      },
      "source": [
        "import datetime\n",
        "\n",
        "def get_villain_name(name, birthdate):\n",
        "  \n",
        "      \n",
        "    \n",
        "    #DEFINO LA LISTA DE NOMBRES\n",
        "    #agrego una entrada vacía para tomar el índice deseado\n",
        "    nombres_villanos=[\"\",\"The Evil\",\"The Vile\",\"The Cruel\",\"The Trashy\",\"The Despicable\",\"The Embarrassing\",\"The Disreputable\",\"The Atrocious\",\n",
        "\"The Twirling\",\"The Orange\",\"The Terrifying\",\"The Awkward\"]\n",
        "    \n",
        "    #CONVIERTO EN LISTA LA FECHA DE NACIMIENTO (AÑO, MES, DIA)\n",
        "    birthdate=list(str(birthdate))\n",
        "        \n",
        "    #OBTENGO MES Y ULTIMO DIGITO DEL DIA\n",
        "    if birthdate[5]=='0':\n",
        "      mes=birthdate[6]\n",
        "    else:\n",
        "        mes=birthdate[5]+birthdate[6]\n",
        "    \n",
        "    ultimo_digito_dia=int(birthdate[9])\n",
        "    \n",
        "    \n",
        "    ##NOMBRE VILLANO\n",
        "    nombre=''+nombres_villanos[int(float(mes))]\n",
        "\n",
        "\n",
        "    ## 2DO NOMBRE VILLANO\n",
        "    #convierto el nombre en una lista\n",
        "    name=list(name)\n",
        "    #la primer letra va ser la ultima, la pongo minúscula\n",
        "    name[0]=name[0].lower()\n",
        "    #la última letra va ser la primera, la pongo mayúscula\n",
        "    name[-1]=name[-1].upper()\n",
        "    \n",
        "    #obtengo el nombre invertido\n",
        "    name_invertido=''\n",
        "    for letra in name:\n",
        "        name_invertido=letra+name_invertido   \n",
        "    seg_nombre=name_invertido\n",
        "    \n",
        "\n",
        "  ## APELLIDO VILLANO\n",
        "    apellidos_villanos=[\"Mustache\",\"Pickle\",\"Hood Ornament\",\"Raisin\",\"Recycling Bin\",\"Potato\",\"Tomato\",\"House Cat\",\"Teaspoon\",\"Laundry Basket\"]\n",
        "    apellido=apellidos_villanos[ultimo_digito_dia]\n",
        "\n",
        "  ## NOMBRE COMPLETO\n",
        "    nombre_completo=nombre+\" \"+seg_nombre+\" \"+apellido\n",
        "    return nombre_completo\n"
      ],
      "execution_count": 5,
      "outputs": []
    },
    {
      "cell_type": "code",
      "metadata": {
        "colab": {
          "base_uri": "https://localhost:8080/"
        },
        "id": "9z3bwZJVTcu1",
        "outputId": "634f8703-431d-4d89-9a99-c3dc4fe01a0a"
      },
      "source": [
        "print(get_villain_name('Pablo', datetime.date(1989,5,17)))"
      ],
      "execution_count": 6,
      "outputs": [
        {
          "output_type": "stream",
          "name": "stdout",
          "text": [
            "The Despicable Olbap House Cat\n"
          ]
        }
      ]
    }
  ]
}